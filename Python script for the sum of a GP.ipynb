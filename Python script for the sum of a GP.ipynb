{
 "cells": [
  {
   "cell_type": "code",
   "execution_count": 2,
   "id": "569441d5-f917-4792-97f1-4aa1c41065f5",
   "metadata": {},
   "outputs": [
    {
     "name": "stdin",
     "output_type": "stream",
     "text": [
      "n:  1\n",
      "r:  2\n",
      "a:  4\n",
      "i:  8\n"
     ]
    }
   ],
   "source": [
    "import math\n",
    "import numpy as np\n",
    "\n",
    "n = int(input(\"n: \"))\n",
    "r = int(input(\"r: \"))\n",
    "a = int(input(\"a: \"))\n",
    "i = int(input(\"i: \"))\n",
    "     \n",
    "def gp(a, n, r):\n",
    "    Sn = 0\n",
    "    if i < 1:\n",
    "        Sn = a*(1- math.pow(r,n))/(1-r)\n",
    "        \n",
    "    elif i > 1:\n",
    "        Sn = a*(math.pow(r,n) - 1)/(r-1)\n",
    "    return(Sn)\n",
    "    \n",
    "\n",
    "\n"
   ]
  },
  {
   "cell_type": "code",
   "execution_count": null,
   "id": "faa0e529-d998-44c3-abf6-9bd7e9f05c25",
   "metadata": {},
   "outputs": [],
   "source": []
  }
 ],
 "metadata": {
  "kernelspec": {
   "display_name": "Python 3 (ipykernel)",
   "language": "python",
   "name": "python3"
  },
  "language_info": {
   "codemirror_mode": {
    "name": "ipython",
    "version": 3
   },
   "file_extension": ".py",
   "mimetype": "text/x-python",
   "name": "python",
   "nbconvert_exporter": "python",
   "pygments_lexer": "ipython3",
   "version": "3.9.18"
  }
 },
 "nbformat": 4,
 "nbformat_minor": 5
}
